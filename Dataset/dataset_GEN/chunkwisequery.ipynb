{
  "cells": [
    {
      "cell_type": "code",
      "execution_count": 1,
      "metadata": {},
      "outputs": [
        {
          "name": "stdout",
          "output_type": "stream",
          "text": [
            "Defaulting to user installation because normal site-packages is not writeable\n",
            "Requirement already satisfied: PyPDF2 in c:\\users\\acer\\appdata\\roaming\\python\\python312\\site-packages (3.0.1)\n",
            "Requirement already satisfied: langchain-community in c:\\users\\acer\\appdata\\roaming\\python\\python312\\site-packages (0.3.8)\n",
            "Requirement already satisfied: langchain-text-splitters in c:\\users\\acer\\appdata\\roaming\\python\\python312\\site-packages (0.3.2)\n",
            "Requirement already satisfied: langchain-google-genai in c:\\users\\acer\\appdata\\roaming\\python\\python312\\site-packages (2.0.5)\n",
            "Requirement already satisfied: PyYAML>=5.3 in c:\\users\\acer\\appdata\\roaming\\python\\python312\\site-packages (from langchain-community) (6.0.2)\n",
            "Requirement already satisfied: SQLAlchemy<2.0.36,>=1.4 in c:\\users\\acer\\appdata\\roaming\\python\\python312\\site-packages (from langchain-community) (2.0.35)\n",
            "Requirement already satisfied: aiohttp<4.0.0,>=3.8.3 in c:\\users\\acer\\appdata\\roaming\\python\\python312\\site-packages (from langchain-community) (3.11.7)\n",
            "Requirement already satisfied: dataclasses-json<0.7,>=0.5.7 in c:\\users\\acer\\appdata\\roaming\\python\\python312\\site-packages (from langchain-community) (0.6.7)\n",
            "Requirement already satisfied: httpx-sse<0.5.0,>=0.4.0 in c:\\users\\acer\\appdata\\roaming\\python\\python312\\site-packages (from langchain-community) (0.4.0)\n",
            "Requirement already satisfied: langchain<0.4.0,>=0.3.8 in c:\\users\\acer\\appdata\\roaming\\python\\python312\\site-packages (from langchain-community) (0.3.8)\n",
            "Requirement already satisfied: langchain-core<0.4.0,>=0.3.21 in c:\\users\\acer\\appdata\\roaming\\python\\python312\\site-packages (from langchain-community) (0.3.21)\n",
            "Requirement already satisfied: langsmith<0.2.0,>=0.1.125 in c:\\users\\acer\\appdata\\roaming\\python\\python312\\site-packages (from langchain-community) (0.1.146)\n",
            "Requirement already satisfied: numpy<2,>=1.26.2 in c:\\users\\acer\\appdata\\roaming\\python\\python312\\site-packages (from langchain-community) (1.26.4)\n",
            "Requirement already satisfied: pydantic-settings<3.0.0,>=2.4.0 in c:\\users\\acer\\appdata\\roaming\\python\\python312\\site-packages (from langchain-community) (2.6.1)\n",
            "Requirement already satisfied: requests<3,>=2 in c:\\users\\acer\\appdata\\roaming\\python\\python312\\site-packages (from langchain-community) (2.32.3)\n",
            "Requirement already satisfied: tenacity!=8.4.0,<10,>=8.1.0 in c:\\users\\acer\\appdata\\roaming\\python\\python312\\site-packages (from langchain-community) (9.0.0)\n",
            "Requirement already satisfied: google-generativeai<0.9.0,>=0.8.0 in c:\\users\\acer\\appdata\\roaming\\python\\python312\\site-packages (from langchain-google-genai) (0.8.3)\n",
            "Requirement already satisfied: pydantic<3,>=2 in c:\\users\\acer\\appdata\\roaming\\python\\python312\\site-packages (from langchain-google-genai) (2.10.1)\n",
            "Requirement already satisfied: aiohappyeyeballs>=2.3.0 in c:\\users\\acer\\appdata\\roaming\\python\\python312\\site-packages (from aiohttp<4.0.0,>=3.8.3->langchain-community) (2.4.3)\n",
            "Requirement already satisfied: aiosignal>=1.1.2 in c:\\users\\acer\\appdata\\roaming\\python\\python312\\site-packages (from aiohttp<4.0.0,>=3.8.3->langchain-community) (1.3.1)\n",
            "Requirement already satisfied: attrs>=17.3.0 in c:\\users\\acer\\appdata\\roaming\\python\\python312\\site-packages (from aiohttp<4.0.0,>=3.8.3->langchain-community) (24.2.0)\n",
            "Requirement already satisfied: frozenlist>=1.1.1 in c:\\users\\acer\\appdata\\roaming\\python\\python312\\site-packages (from aiohttp<4.0.0,>=3.8.3->langchain-community) (1.5.0)\n",
            "Requirement already satisfied: multidict<7.0,>=4.5 in c:\\users\\acer\\appdata\\roaming\\python\\python312\\site-packages (from aiohttp<4.0.0,>=3.8.3->langchain-community) (6.1.0)\n",
            "Requirement already satisfied: propcache>=0.2.0 in c:\\users\\acer\\appdata\\roaming\\python\\python312\\site-packages (from aiohttp<4.0.0,>=3.8.3->langchain-community) (0.2.0)\n",
            "Requirement already satisfied: yarl<2.0,>=1.17.0 in c:\\users\\acer\\appdata\\roaming\\python\\python312\\site-packages (from aiohttp<4.0.0,>=3.8.3->langchain-community) (1.18.0)\n",
            "Requirement already satisfied: marshmallow<4.0.0,>=3.18.0 in c:\\users\\acer\\appdata\\roaming\\python\\python312\\site-packages (from dataclasses-json<0.7,>=0.5.7->langchain-community) (3.23.1)\n",
            "Requirement already satisfied: typing-inspect<1,>=0.4.0 in c:\\users\\acer\\appdata\\roaming\\python\\python312\\site-packages (from dataclasses-json<0.7,>=0.5.7->langchain-community) (0.9.0)\n",
            "Requirement already satisfied: google-ai-generativelanguage==0.6.10 in c:\\users\\acer\\appdata\\roaming\\python\\python312\\site-packages (from google-generativeai<0.9.0,>=0.8.0->langchain-google-genai) (0.6.10)\n",
            "Requirement already satisfied: google-api-core in c:\\users\\acer\\appdata\\roaming\\python\\python312\\site-packages (from google-generativeai<0.9.0,>=0.8.0->langchain-google-genai) (2.23.0)\n",
            "Requirement already satisfied: google-api-python-client in c:\\users\\acer\\appdata\\roaming\\python\\python312\\site-packages (from google-generativeai<0.9.0,>=0.8.0->langchain-google-genai) (2.154.0)\n",
            "Requirement already satisfied: google-auth>=2.15.0 in c:\\users\\acer\\appdata\\roaming\\python\\python312\\site-packages (from google-generativeai<0.9.0,>=0.8.0->langchain-google-genai) (2.36.0)\n",
            "Requirement already satisfied: protobuf in c:\\users\\acer\\appdata\\roaming\\python\\python312\\site-packages (from google-generativeai<0.9.0,>=0.8.0->langchain-google-genai) (5.28.3)\n",
            "Requirement already satisfied: tqdm in c:\\users\\acer\\appdata\\roaming\\python\\python312\\site-packages (from google-generativeai<0.9.0,>=0.8.0->langchain-google-genai) (4.66.4)\n",
            "Requirement already satisfied: typing-extensions in c:\\users\\acer\\appdata\\roaming\\python\\python312\\site-packages (from google-generativeai<0.9.0,>=0.8.0->langchain-google-genai) (4.12.2)\n",
            "Requirement already satisfied: proto-plus<2.0.0dev,>=1.22.3 in c:\\users\\acer\\appdata\\roaming\\python\\python312\\site-packages (from google-ai-generativelanguage==0.6.10->google-generativeai<0.9.0,>=0.8.0->langchain-google-genai) (1.25.0)\n",
            "Requirement already satisfied: jsonpatch<2.0,>=1.33 in c:\\users\\acer\\appdata\\roaming\\python\\python312\\site-packages (from langchain-core<0.4.0,>=0.3.21->langchain-community) (1.33)\n",
            "Requirement already satisfied: packaging<25,>=23.2 in c:\\users\\acer\\appdata\\roaming\\python\\python312\\site-packages (from langchain-core<0.4.0,>=0.3.21->langchain-community) (24.1)\n",
            "Requirement already satisfied: httpx<1,>=0.23.0 in c:\\users\\acer\\appdata\\roaming\\python\\python312\\site-packages (from langsmith<0.2.0,>=0.1.125->langchain-community) (0.27.2)\n",
            "Requirement already satisfied: orjson<4.0.0,>=3.9.14 in c:\\users\\acer\\appdata\\roaming\\python\\python312\\site-packages (from langsmith<0.2.0,>=0.1.125->langchain-community) (3.10.12)\n",
            "Requirement already satisfied: requests-toolbelt<2.0.0,>=1.0.0 in c:\\users\\acer\\appdata\\roaming\\python\\python312\\site-packages (from langsmith<0.2.0,>=0.1.125->langchain-community) (1.0.0)\n",
            "Requirement already satisfied: annotated-types>=0.6.0 in c:\\users\\acer\\appdata\\roaming\\python\\python312\\site-packages (from pydantic<3,>=2->langchain-google-genai) (0.7.0)\n",
            "Requirement already satisfied: pydantic-core==2.27.1 in c:\\users\\acer\\appdata\\roaming\\python\\python312\\site-packages (from pydantic<3,>=2->langchain-google-genai) (2.27.1)\n",
            "Requirement already satisfied: python-dotenv>=0.21.0 in c:\\users\\acer\\appdata\\roaming\\python\\python312\\site-packages (from pydantic-settings<3.0.0,>=2.4.0->langchain-community) (1.0.1)\n",
            "Requirement already satisfied: charset-normalizer<4,>=2 in c:\\users\\acer\\appdata\\roaming\\python\\python312\\site-packages (from requests<3,>=2->langchain-community) (3.4.0)\n",
            "Requirement already satisfied: idna<4,>=2.5 in c:\\users\\acer\\appdata\\roaming\\python\\python312\\site-packages (from requests<3,>=2->langchain-community) (3.10)\n",
            "Requirement already satisfied: urllib3<3,>=1.21.1 in c:\\users\\acer\\appdata\\roaming\\python\\python312\\site-packages (from requests<3,>=2->langchain-community) (2.2.3)\n",
            "Requirement already satisfied: certifi>=2017.4.17 in c:\\users\\acer\\appdata\\roaming\\python\\python312\\site-packages (from requests<3,>=2->langchain-community) (2024.8.30)\n",
            "Requirement already satisfied: greenlet!=0.4.17 in c:\\users\\acer\\appdata\\roaming\\python\\python312\\site-packages (from SQLAlchemy<2.0.36,>=1.4->langchain-community) (3.1.1)\n",
            "Requirement already satisfied: googleapis-common-protos<2.0.dev0,>=1.56.2 in c:\\users\\acer\\appdata\\roaming\\python\\python312\\site-packages (from google-api-core->google-generativeai<0.9.0,>=0.8.0->langchain-google-genai) (1.66.0)\n",
            "Requirement already satisfied: cachetools<6.0,>=2.0.0 in c:\\users\\acer\\appdata\\roaming\\python\\python312\\site-packages (from google-auth>=2.15.0->google-generativeai<0.9.0,>=0.8.0->langchain-google-genai) (5.5.0)\n",
            "Requirement already satisfied: pyasn1-modules>=0.2.1 in c:\\users\\acer\\appdata\\roaming\\python\\python312\\site-packages (from google-auth>=2.15.0->google-generativeai<0.9.0,>=0.8.0->langchain-google-genai) (0.4.1)\n",
            "Requirement already satisfied: rsa<5,>=3.1.4 in c:\\users\\acer\\appdata\\roaming\\python\\python312\\site-packages (from google-auth>=2.15.0->google-generativeai<0.9.0,>=0.8.0->langchain-google-genai) (4.9)\n",
            "Requirement already satisfied: anyio in c:\\users\\acer\\appdata\\roaming\\python\\python312\\site-packages (from httpx<1,>=0.23.0->langsmith<0.2.0,>=0.1.125->langchain-community) (4.6.2.post1)\n",
            "Requirement already satisfied: httpcore==1.* in c:\\users\\acer\\appdata\\roaming\\python\\python312\\site-packages (from httpx<1,>=0.23.0->langsmith<0.2.0,>=0.1.125->langchain-community) (1.0.6)\n",
            "Requirement already satisfied: sniffio in c:\\users\\acer\\appdata\\roaming\\python\\python312\\site-packages (from httpx<1,>=0.23.0->langsmith<0.2.0,>=0.1.125->langchain-community) (1.3.1)\n",
            "Requirement already satisfied: h11<0.15,>=0.13 in c:\\users\\acer\\appdata\\roaming\\python\\python312\\site-packages (from httpcore==1.*->httpx<1,>=0.23.0->langsmith<0.2.0,>=0.1.125->langchain-community) (0.14.0)\n",
            "Requirement already satisfied: jsonpointer>=1.9 in c:\\users\\acer\\appdata\\roaming\\python\\python312\\site-packages (from jsonpatch<2.0,>=1.33->langchain-core<0.4.0,>=0.3.21->langchain-community) (3.0.0)\n",
            "Requirement already satisfied: mypy-extensions>=0.3.0 in c:\\users\\acer\\appdata\\roaming\\python\\python312\\site-packages (from typing-inspect<1,>=0.4.0->dataclasses-json<0.7,>=0.5.7->langchain-community) (1.0.0)\n",
            "Requirement already satisfied: httplib2<1.dev0,>=0.19.0 in c:\\users\\acer\\appdata\\roaming\\python\\python312\\site-packages (from google-api-python-client->google-generativeai<0.9.0,>=0.8.0->langchain-google-genai) (0.22.0)\n",
            "Requirement already satisfied: google-auth-httplib2<1.0.0,>=0.2.0 in c:\\users\\acer\\appdata\\roaming\\python\\python312\\site-packages (from google-api-python-client->google-generativeai<0.9.0,>=0.8.0->langchain-google-genai) (0.2.0)\n",
            "Requirement already satisfied: uritemplate<5,>=3.0.1 in c:\\users\\acer\\appdata\\roaming\\python\\python312\\site-packages (from google-api-python-client->google-generativeai<0.9.0,>=0.8.0->langchain-google-genai) (4.1.1)\n",
            "Requirement already satisfied: colorama in c:\\users\\acer\\appdata\\roaming\\python\\python312\\site-packages (from tqdm->google-generativeai<0.9.0,>=0.8.0->langchain-google-genai) (0.4.6)\n",
            "Requirement already satisfied: grpcio<2.0dev,>=1.33.2 in c:\\users\\acer\\appdata\\roaming\\python\\python312\\site-packages (from google-api-core[grpc]!=2.0.*,!=2.1.*,!=2.10.*,!=2.2.*,!=2.3.*,!=2.4.*,!=2.5.*,!=2.6.*,!=2.7.*,!=2.8.*,!=2.9.*,<3.0.0dev,>=1.34.1->google-ai-generativelanguage==0.6.10->google-generativeai<0.9.0,>=0.8.0->langchain-google-genai) (1.68.0)\n",
            "Requirement already satisfied: grpcio-status<2.0.dev0,>=1.33.2 in c:\\users\\acer\\appdata\\roaming\\python\\python312\\site-packages (from google-api-core[grpc]!=2.0.*,!=2.1.*,!=2.10.*,!=2.2.*,!=2.3.*,!=2.4.*,!=2.5.*,!=2.6.*,!=2.7.*,!=2.8.*,!=2.9.*,<3.0.0dev,>=1.34.1->google-ai-generativelanguage==0.6.10->google-generativeai<0.9.0,>=0.8.0->langchain-google-genai) (1.68.0)\n",
            "Requirement already satisfied: pyparsing!=3.0.0,!=3.0.1,!=3.0.2,!=3.0.3,<4,>=2.4.2 in c:\\users\\acer\\appdata\\roaming\\python\\python312\\site-packages (from httplib2<1.dev0,>=0.19.0->google-api-python-client->google-generativeai<0.9.0,>=0.8.0->langchain-google-genai) (3.2.0)\n",
            "Requirement already satisfied: pyasn1<0.7.0,>=0.4.6 in c:\\users\\acer\\appdata\\roaming\\python\\python312\\site-packages (from pyasn1-modules>=0.2.1->google-auth>=2.15.0->google-generativeai<0.9.0,>=0.8.0->langchain-google-genai) (0.6.1)\n",
            "Note: you may need to restart the kernel to use updated packages.\n"
          ]
        }
      ],
      "source": [
        "pip install PyPDF2 langchain-community langchain-text-splitters langchain-google-genai"
      ]
    },
    {
      "cell_type": "code",
      "execution_count": 2,
      "metadata": {
        "id": "bucnaL0BqbSr"
      },
      "outputs": [],
      "source": [
        "import os\n",
        "from langchain.docstore.document import Document\n",
        "from langchain.embeddings import OpenAIEmbeddings\n",
        "from langchain_text_splitters import RecursiveCharacterTextSplitter\n",
        "from langchain.docstore.document import Document\n",
        "import openai\n",
        "\n",
        "# For scraping\n",
        "import requests\n",
        "import pandas as pd\n",
        "from bs4 import BeautifulSoup\n",
        "\n",
        "# For data analysis and visualization\n",
        "import matplotlib.pyplot as plt\n",
        "import seaborn as sns\n",
        "from sklearn.decomposition import PCA\n",
        "from sklearn.manifold import TSNE\n",
        "import pandas as pd\n",
        "import numpy as np\n",
        "import random\n",
        "import PyPDF2\n",
        "import pandas as pd\n",
        "import re\n",
        "from langchain.prompts import PromptTemplate\n",
        "from langchain.chat_models import ChatOpenAI\n",
        "from langchain.chains import LLMChain\n",
        "from langchain.schema import Document\n",
        "from langchain.agents import initialize_agent, Tool, AgentType\n"
      ]
    },
    {
      "cell_type": "code",
      "execution_count": 3,
      "metadata": {
        "colab": {
          "base_uri": "https://localhost:8080/"
        },
        "id": "aaI3poxVp1O2",
        "outputId": "9cb14ac7-9f6f-4247-a3a8-40ff7c7472c2"
      },
      "outputs": [
        {
          "name": "stderr",
          "output_type": "stream",
          "text": [
            "<>:2: SyntaxWarning: invalid escape sequence '\\s'\n",
            "<>:2: SyntaxWarning: invalid escape sequence '\\s'\n",
            "C:\\Users\\Acer\\AppData\\Local\\Temp\\ipykernel_53020\\4259480150.py:2: SyntaxWarning: invalid escape sequence '\\s'\n",
            "  file_path = \"D:\\super-duper-experimentation\\dataset_gen\\Merger guidelines - Final.pdf\"\n",
            "C:\\Users\\Acer\\AppData\\Local\\Temp\\ipykernel_53020\\4259480150.py:2: SyntaxWarning: invalid escape sequence '\\s'\n",
            "  file_path = \"D:\\super-duper-experimentation\\dataset_gen\\Merger guidelines - Final.pdf\"\n"
          ]
        },
        {
          "ename": "FileNotFoundError",
          "evalue": "[Errno 2] No such file or directory: 'D:\\\\super-duper-experimentation\\\\dataset_gen\\\\Merger guidelines - Final.pdf'",
          "output_type": "error",
          "traceback": [
            "\u001b[1;31m---------------------------------------------------------------------------\u001b[0m",
            "\u001b[1;31mFileNotFoundError\u001b[0m                         Traceback (most recent call last)",
            "Cell \u001b[1;32mIn[3], line 5\u001b[0m\n\u001b[0;32m      2\u001b[0m file_path \u001b[38;5;241m=\u001b[39m \u001b[38;5;124m\"\u001b[39m\u001b[38;5;124mD:\u001b[39m\u001b[38;5;124m\\\u001b[39m\u001b[38;5;124msuper-duper-experimentation\u001b[39m\u001b[38;5;124m\\\u001b[39m\u001b[38;5;124mdataset_gen\u001b[39m\u001b[38;5;124m\\\u001b[39m\u001b[38;5;124mMerger guidelines - Final.pdf\u001b[39m\u001b[38;5;124m\"\u001b[39m\n\u001b[0;32m      4\u001b[0m \u001b[38;5;66;03m# Open the PDF file\u001b[39;00m\n\u001b[1;32m----> 5\u001b[0m \u001b[38;5;28;01mwith\u001b[39;00m \u001b[38;5;28;43mopen\u001b[39;49m\u001b[43m(\u001b[49m\u001b[43mfile_path\u001b[49m\u001b[43m,\u001b[49m\u001b[43m \u001b[49m\u001b[38;5;124;43m\"\u001b[39;49m\u001b[38;5;124;43mrb\u001b[39;49m\u001b[38;5;124;43m\"\u001b[39;49m\u001b[43m)\u001b[49m \u001b[38;5;28;01mas\u001b[39;00m pdf_file:\n\u001b[0;32m      6\u001b[0m     reader \u001b[38;5;241m=\u001b[39m PyPDF2\u001b[38;5;241m.\u001b[39mPdfReader(pdf_file)\n\u001b[0;32m      7\u001b[0m     text_data \u001b[38;5;241m=\u001b[39m []\n",
            "File \u001b[1;32m~\\AppData\\Roaming\\Python\\Python312\\site-packages\\IPython\\core\\interactiveshell.py:324\u001b[0m, in \u001b[0;36m_modified_open\u001b[1;34m(file, *args, **kwargs)\u001b[0m\n\u001b[0;32m    317\u001b[0m \u001b[38;5;28;01mif\u001b[39;00m file \u001b[38;5;129;01min\u001b[39;00m {\u001b[38;5;241m0\u001b[39m, \u001b[38;5;241m1\u001b[39m, \u001b[38;5;241m2\u001b[39m}:\n\u001b[0;32m    318\u001b[0m     \u001b[38;5;28;01mraise\u001b[39;00m \u001b[38;5;167;01mValueError\u001b[39;00m(\n\u001b[0;32m    319\u001b[0m         \u001b[38;5;124mf\u001b[39m\u001b[38;5;124m\"\u001b[39m\u001b[38;5;124mIPython won\u001b[39m\u001b[38;5;124m'\u001b[39m\u001b[38;5;124mt let you open fd=\u001b[39m\u001b[38;5;132;01m{\u001b[39;00mfile\u001b[38;5;132;01m}\u001b[39;00m\u001b[38;5;124m by default \u001b[39m\u001b[38;5;124m\"\u001b[39m\n\u001b[0;32m    320\u001b[0m         \u001b[38;5;124m\"\u001b[39m\u001b[38;5;124mas it is likely to crash IPython. If you know what you are doing, \u001b[39m\u001b[38;5;124m\"\u001b[39m\n\u001b[0;32m    321\u001b[0m         \u001b[38;5;124m\"\u001b[39m\u001b[38;5;124myou can use builtins\u001b[39m\u001b[38;5;124m'\u001b[39m\u001b[38;5;124m open.\u001b[39m\u001b[38;5;124m\"\u001b[39m\n\u001b[0;32m    322\u001b[0m     )\n\u001b[1;32m--> 324\u001b[0m \u001b[38;5;28;01mreturn\u001b[39;00m \u001b[43mio_open\u001b[49m\u001b[43m(\u001b[49m\u001b[43mfile\u001b[49m\u001b[43m,\u001b[49m\u001b[43m \u001b[49m\u001b[38;5;241;43m*\u001b[39;49m\u001b[43margs\u001b[49m\u001b[43m,\u001b[49m\u001b[43m \u001b[49m\u001b[38;5;241;43m*\u001b[39;49m\u001b[38;5;241;43m*\u001b[39;49m\u001b[43mkwargs\u001b[49m\u001b[43m)\u001b[49m\n",
            "\u001b[1;31mFileNotFoundError\u001b[0m: [Errno 2] No such file or directory: 'D:\\\\super-duper-experimentation\\\\dataset_gen\\\\Merger guidelines - Final.pdf'"
          ]
        }
      ],
      "source": [
        "\n",
        "# File path\n",
        "file_path = \"Merger guidelines - Final.pdf\"\n",
        "\n",
        "# Open the PDF file\n",
        "with open(file_path, \"rb\") as pdf_file:\n",
        "    reader = PyPDF2.PdfReader(pdf_file)\n",
        "    text_data = []\n",
        "\n",
        "    # Extract text from each page\n",
        "    for page in reader.pages:\n",
        "        raw_text = page.extract_text()\n",
        "        if raw_text.strip():  # Ignore empty pages\n",
        "            # Clean the text\n",
        "            cleaned_text = re.sub(r'\\n+', ' ', raw_text)  # Replace multiple newlines with a single space\n",
        "            cleaned_text = cleaned_text.strip()  # Remove leading/trailing spaces\n",
        "            text_data.append(cleaned_text)\n",
        "\n",
        "# Create a DataFrame\n",
        "df = pd.DataFrame(text_data, columns=[\"Content\"])\n",
        "\n",
        "# Split sections if applicable\n",
        "df['Section'] = df['Content'].str.extract(r'(Article\\s[IVX]+|Appendix|Exhibit\\s[A-Z])', expand=False).fillna(\"General\")\n",
        "\n",
        "# Save the DataFrame to a CSV file\n",
        "output_csv = \"cleaned_pdf_to_dataframe.csv\"\n",
        "df.to_csv(output_csv, index=False)\n",
        "\n",
        "# Display a sample of the DataFrame\n",
        "print(df.head())\n"
      ]
    },
    {
      "cell_type": "code",
      "execution_count": null,
      "metadata": {
        "id": "6c78MBDHrAPT"
      },
      "outputs": [],
      "source": [
        "CHUNK_SIZE = 4000\n",
        "QUESTIONS_PER_CHUNK = 6\n",
        "NUM_DOCUMENTS = 50"
      ]
    },
    {
      "cell_type": "code",
      "execution_count": null,
      "metadata": {
        "colab": {
          "base_uri": "https://localhost:8080/"
        },
        "id": "nmsx0irzqLmJ",
        "outputId": "5ed63bba-96db-4372-efa4-5d880e10b803"
      },
      "outputs": [
        {
          "name": "stdout",
          "output_type": "stream",
          "text": [
            "page_content='Merger Guidelines       November 2008 *        *November 2017 – amended to include Harper reforms to the   Competition and Consumer Act 2010'\n"
          ]
        }
      ],
      "source": [
        "text_splitter = RecursiveCharacterTextSplitter(\n",
        "    chunk_size=CHUNK_SIZE,\n",
        "    chunk_overlap=400,\n",
        "    length_function=len,\n",
        "    is_separator_regex=False,\n",
        ")\n",
        "documents = []\n",
        "for index, page in df.iterrows():\n",
        "    chunks = text_splitter.split_text(page[\"Content\"])\n",
        "    for chunk in chunks:\n",
        "        documents.append(Document(page_content=chunk))\n",
        "print(documents[0])"
      ]
    },
    {
      "cell_type": "code",
      "execution_count": null,
      "metadata": {},
      "outputs": [],
      "source": [
        "from dotenv import load_dotenv\n",
        "load_dotenv('../../.env')"
      ]
    },
    {
      "cell_type": "code",
      "execution_count": null,
      "metadata": {
        "colab": {
          "base_uri": "https://localhost:8080/"
        },
        "id": "ry_k6gKtrL2W",
        "outputId": "c49d5b1b-8fb8-44ba-dcbb-dd7953099024"
      },
      "outputs": [
        {
          "name": "stdout",
          "output_type": "stream",
          "text": [
            "{'chunk': 'Merger Guidelines       November 2008 *        *November 2017 – amended to include Harper reforms to the   Competition and Consumer Act 2010', 'questions': ['What specific changes to the Competition and Consumer Act 2010 were incorporated into the Merger Guidelines in November 2017?', '', 'What is the significance of the November 2008 date in relation to the provided Merger Guidelines?', '', 'Are there any other versions of the Merger Guidelines besides the ones mentioned (November 2008 and the amended 2017 version)?', '', 'What is the primary purpose or function of the Merger Guidelines document?', '', \"Who is responsible for issuing and maintaining these Merger Guidelines? (If the document doesn't state this explicitly, say so).\", '', 'How might the Harper reforms, implemented in 2017, affect the assessment of mergers under the guidelines?']}\n"
          ]
        }
      ],
      "source": [
        "# Initialize OpenAI or Gemini Chat model through LangChain\n",
        "\n",
        "\n",
        "from langchain_google_genai import ChatGoogleGenerativeAI\n",
        "\n",
        "llm = ChatGoogleGenerativeAI(\n",
        "    model=\"gemini-1.5-flash\",\n",
        "    temperature=0,\n",
        "    max_tokens=None,\n",
        "    timeout=None,\n",
        "    max_retries=2,\n",
        "    # other params...\n",
        ")\n",
        "\n",
        "# llm = ChatOpenAI(model=\"gpt-3.5-turbo\", temperature=0.7)\n",
        "\n",
        "# Define the template for generating questions\n",
        "prompt_template = \"\"\"\n",
        "You are given a document. Please generate {questions_per_chunk} questions based on the above document.\n",
        "The questions should be diverse and ask for different aspects of the document. Don't give vague references\n",
        "to the document without description. Split each question with a newline.\n",
        "Document: {document}\n",
        "\"\"\"\n",
        "prompt = PromptTemplate(input_variables=[\"document\", \"questions_per_chunk\"], template=prompt_template)\n",
        "\n",
        "# Create the LLMChain to combine the prompt with the model\n",
        "llm_chain = LLMChain(prompt=prompt, llm=llm)\n",
        "\n",
        "# Process the documents and generate questions\n",
        "queries = []\n",
        "\n",
        "\n",
        "# Assuming `documents` is a list of Document objects\n",
        "for doc in documents[:NUM_DOCUMENTS]:\n",
        "    chunk = doc.page_content\n",
        "\n",
        "    # Run the LLMChain to generate questions for this document chunk\n",
        "    response = llm_chain.run({\"document\": chunk, \"questions_per_chunk\": QUESTIONS_PER_CHUNK})\n",
        "\n",
        "    # Process the response\n",
        "    question_list = [q.strip() for q in response.splitlines()]\n",
        "\n",
        "    queries.append({\"chunk\": chunk, \"questions\": question_list})\n",
        "\n",
        "# Print out the first query set\n",
        "print(queries[0])\n"
      ]
    },
    {
      "cell_type": "code",
      "execution_count": null,
      "metadata": {
        "colab": {
          "base_uri": "https://localhost:8080/"
        },
        "id": "X7HXeKIBusnu",
        "outputId": "5b80f415-b556-47bb-ed0f-9b8ffbdd2a5d"
      },
      "outputs": [
        {
          "name": "stdout",
          "output_type": "stream",
          "text": [
            "{'chunk': 'Merger G uidelines 2008, updated 2017   21   products may belong to seve ral separate disaggregated markets and/or one  aggregated market consisting of a suite of goods and services generally supplied  together (sometimes referred to as a ‘cluster market’). To define the relevant markets  in these cases, the ACCC considers, among other things:   \\uf0b7 the split between products  purchased or supplied separately, and products   purchased or supplied together   \\uf0b7 the costs involved in purchasing  or supplying the product  separately   \\uf0b7 any obstacles to purchasing  or supplying the product  separately   \\uf0b7 any assets or specialisation required to supply each product.', 'questions': ['What criteria does the ACCC use to define relevant markets when products might belong to both separate and aggregated markets, according to the 2017 update of the 2008 Merger Guidelines?', '', \"How does the proportion of products purchased or supplied separately versus together influence the ACCC's market definition, as outlined in the provided text?\", '', \"According to the document, what role do the costs associated with purchasing or supplying products separately play in the ACCC's market definition process?\", '', \"Does the presence of obstacles to purchasing or supplying products separately affect the ACCC's determination of relevant markets, and if so, how, based on the provided excerpt?\", '', \"What is the significance of assets or specialization required to supply each product in the ACCC's market definition, as explained in the Merger Guidelines excerpt?\", '', 'The document mentions \"cluster markets.\"  Define \"cluster market\" as it is used in this context within the Merger Guidelines.']}\n"
          ]
        }
      ],
      "source": [
        "print(queries[24])"
      ]
    },
    {
      "cell_type": "code",
      "execution_count": null,
      "metadata": {
        "id": "vdK15IwKRNZq"
      },
      "outputs": [],
      "source": [
        "finalqueries = []\n",
        "\n",
        "for query in queries:\n",
        "  for question in query[\"questions\"]:\n",
        "    if question:\n",
        "      if question[1] == \".\":\n",
        "        finalqueries.append({\"chunk\": query[\"chunk\"], \"question\": question[2:]})\n",
        "      else:\n",
        "        finalqueries.append({\"chunk\": query[\"chunk\"], \"question\": question})"
      ]
    },
    {
      "cell_type": "code",
      "execution_count": null,
      "metadata": {
        "id": "Sw8h71CwO8do"
      },
      "outputs": [],
      "source": [
        "df = pd.DataFrame(finalqueries)"
      ]
    },
    {
      "cell_type": "code",
      "execution_count": null,
      "metadata": {},
      "outputs": [
        {
          "data": {
            "text/html": [
              "<div>\n",
              "<style scoped>\n",
              "    .dataframe tbody tr th:only-of-type {\n",
              "        vertical-align: middle;\n",
              "    }\n",
              "\n",
              "    .dataframe tbody tr th {\n",
              "        vertical-align: top;\n",
              "    }\n",
              "\n",
              "    .dataframe thead th {\n",
              "        text-align: right;\n",
              "    }\n",
              "</style>\n",
              "<table border=\"1\" class=\"dataframe\">\n",
              "  <thead>\n",
              "    <tr style=\"text-align: right;\">\n",
              "      <th></th>\n",
              "      <th>chunk</th>\n",
              "      <th>question</th>\n",
              "    </tr>\n",
              "  </thead>\n",
              "  <tbody>\n",
              "    <tr>\n",
              "      <th>0</th>\n",
              "      <td>Merger Guidelines       November 2008 *       ...</td>\n",
              "      <td>What specific changes to the Competition and C...</td>\n",
              "    </tr>\n",
              "    <tr>\n",
              "      <th>1</th>\n",
              "      <td>Merger Guidelines       November 2008 *       ...</td>\n",
              "      <td>What is the significance of the November 2008 ...</td>\n",
              "    </tr>\n",
              "    <tr>\n",
              "      <th>2</th>\n",
              "      <td>Merger Guidelines       November 2008 *       ...</td>\n",
              "      <td>Are there any other versions of the Merger Gui...</td>\n",
              "    </tr>\n",
              "    <tr>\n",
              "      <th>3</th>\n",
              "      <td>Merger Guidelines       November 2008 *       ...</td>\n",
              "      <td>What is the primary purpose or function of the...</td>\n",
              "    </tr>\n",
              "    <tr>\n",
              "      <th>4</th>\n",
              "      <td>Merger Guidelines       November 2008 *       ...</td>\n",
              "      <td>Who is responsible for issuing and maintaining...</td>\n",
              "    </tr>\n",
              "    <tr>\n",
              "      <th>...</th>\n",
              "      <td>...</td>\n",
              "      <td>...</td>\n",
              "    </tr>\n",
              "    <tr>\n",
              "      <th>295</th>\n",
              "      <td>Merger G uidelines 2008, updated 2017   45    ...</td>\n",
              "      <td>The document discusses \"countervailing power...</td>\n",
              "    </tr>\n",
              "    <tr>\n",
              "      <th>296</th>\n",
              "      <td>Merger G uidelines 2008, updated 2017   45    ...</td>\n",
              "      <td>What types of information might the ACCC req...</td>\n",
              "    </tr>\n",
              "    <tr>\n",
              "      <th>297</th>\n",
              "      <td>Merger G uidelines 2008, updated 2017   45    ...</td>\n",
              "      <td>The document mentions that the ACCC's inform...</td>\n",
              "    </tr>\n",
              "    <tr>\n",
              "      <th>298</th>\n",
              "      <td>Merger G uidelines 2008, updated 2017   45    ...</td>\n",
              "      <td>How does the document address the dynamic na...</td>\n",
              "    </tr>\n",
              "    <tr>\n",
              "      <th>299</th>\n",
              "      <td>Merger G uidelines 2008, updated 2017   45    ...</td>\n",
              "      <td>Based on the text, how does the rate of mark...</td>\n",
              "    </tr>\n",
              "  </tbody>\n",
              "</table>\n",
              "<p>300 rows × 2 columns</p>\n",
              "</div>"
            ],
            "text/plain": [
              "                                                 chunk  \\\n",
              "0    Merger Guidelines       November 2008 *       ...   \n",
              "1    Merger Guidelines       November 2008 *       ...   \n",
              "2    Merger Guidelines       November 2008 *       ...   \n",
              "3    Merger Guidelines       November 2008 *       ...   \n",
              "4    Merger Guidelines       November 2008 *       ...   \n",
              "..                                                 ...   \n",
              "295  Merger G uidelines 2008, updated 2017   45    ...   \n",
              "296  Merger G uidelines 2008, updated 2017   45    ...   \n",
              "297  Merger G uidelines 2008, updated 2017   45    ...   \n",
              "298  Merger G uidelines 2008, updated 2017   45    ...   \n",
              "299  Merger G uidelines 2008, updated 2017   45    ...   \n",
              "\n",
              "                                              question  \n",
              "0    What specific changes to the Competition and C...  \n",
              "1    What is the significance of the November 2008 ...  \n",
              "2    Are there any other versions of the Merger Gui...  \n",
              "3    What is the primary purpose or function of the...  \n",
              "4    Who is responsible for issuing and maintaining...  \n",
              "..                                                 ...  \n",
              "295    The document discusses \"countervailing power...  \n",
              "296    What types of information might the ACCC req...  \n",
              "297    The document mentions that the ACCC's inform...  \n",
              "298    How does the document address the dynamic na...  \n",
              "299    Based on the text, how does the rate of mark...  \n",
              "\n",
              "[300 rows x 2 columns]"
            ]
          },
          "execution_count": 19,
          "metadata": {},
          "output_type": "execute_result"
        }
      ],
      "source": [
        "df"
      ]
    },
    {
      "cell_type": "code",
      "execution_count": null,
      "metadata": {
        "id": "wGzbms2zPMHX"
      },
      "outputs": [],
      "source": [
        "df.to_csv('final_questions_with_chunk.csv', index=False)"
      ]
    },
    {
      "cell_type": "code",
      "execution_count": null,
      "metadata": {
        "id": "mZzYAk-uSgAT"
      },
      "outputs": [],
      "source": []
    }
  ],
  "metadata": {
    "colab": {
      "provenance": []
    },
    "kernelspec": {
      "display_name": "Python 3",
      "name": "python3"
    },
    "language_info": {
      "codemirror_mode": {
        "name": "ipython",
        "version": 3
      },
      "file_extension": ".py",
      "mimetype": "text/x-python",
      "name": "python",
      "nbconvert_exporter": "python",
      "pygments_lexer": "ipython3",
      "version": "3.12.4"
    }
  },
  "nbformat": 4,
  "nbformat_minor": 0
}
