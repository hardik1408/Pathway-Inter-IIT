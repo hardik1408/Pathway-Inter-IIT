{
 "cells": [
  {
   "cell_type": "code",
   "execution_count": null,
   "metadata": {},
   "outputs": [],
   "source": [
    "from langchain.document_loaders import PyPDFLoader\n",
    "loader = PyPDFLoader(\"S-4.pdf\")\n",
    "docs = loader.load()"
   ]
  },
  {
   "cell_type": "code",
   "execution_count": 2,
   "metadata": {},
   "outputs": [],
   "source": [
    "from dotenv import load_dotenv\n",
    "\n",
    "load_dotenv('../../.env')"
   ]
  },
  {
   "cell_type": "code",
   "execution_count": 8,
   "metadata": {},
   "outputs": [],
   "source": [
    "from ragas.llms import LangchainLLMWrapper\n",
    "from ragas.embeddings import LangchainEmbeddingsWrapper\n",
    "from langchain_openai import ChatOpenAI\n",
    "from langchain_openai import OpenAIEmbeddings\n",
    "llm = LangchainLLMWrapper(ChatOpenAI(model=\"gpt-3.5-turbo\"))\n",
    "embedder = LangchainEmbeddingsWrapper(OpenAIEmbeddings())"
   ]
  },
  {
   "cell_type": "code",
   "execution_count": null,
   "metadata": {},
   "outputs": [
    {
     "data": {
      "application/vnd.jupyter.widget-view+json": {
       "model_id": "96692ad80dcd41fcb4869ba2b5cf0d51",
       "version_major": 2,
       "version_minor": 0
      },
      "text/plain": [
       "Applying HeadlinesExtractor:   0%|          | 0/146 [00:00<?, ?it/s]"
      ]
     },
     "metadata": {},
     "output_type": "display_data"
    },
    {
     "name": "stderr",
     "output_type": "stream",
     "text": [
      "unable to apply transformation: Error code: 400 - {'error': {'message': \"This model's maximum context length is 16385 tokens. However, your messages resulted in 33563 tokens. Please reduce the length of the messages.\", 'type': 'invalid_request_error', 'param': 'messages', 'code': 'context_length_exceeded'}}\n"
     ]
    },
    {
     "data": {
      "application/vnd.jupyter.widget-view+json": {
       "model_id": "bf780b4ac4334d38b9bc407fc1df256a",
       "version_major": 2,
       "version_minor": 0
      },
      "text/plain": [
       "Applying HeadlineSplitter:   0%|          | 0/158 [00:00<?, ?it/s]"
      ]
     },
     "metadata": {},
     "output_type": "display_data"
    },
    {
     "name": "stderr",
     "output_type": "stream",
     "text": [
      "unable to apply transformation: 'headlines' property not found in this node\n",
      "unable to apply transformation: 'headlines' property not found in this node\n",
      "unable to apply transformation: 'headlines' property not found in this node\n",
      "unable to apply transformation: 'headlines' property not found in this node\n",
      "unable to apply transformation: 'headlines' property not found in this node\n",
      "unable to apply transformation: 'headlines' property not found in this node\n",
      "unable to apply transformation: 'headlines' property not found in this node\n",
      "unable to apply transformation: 'headlines' property not found in this node\n",
      "unable to apply transformation: 'headlines' property not found in this node\n",
      "unable to apply transformation: 'headlines' property not found in this node\n",
      "unable to apply transformation: 'headlines' property not found in this node\n",
      "unable to apply transformation: 'headlines' property not found in this node\n",
      "unable to apply transformation: 'headlines' property not found in this node\n"
     ]
    },
    {
     "data": {
      "application/vnd.jupyter.widget-view+json": {
       "model_id": "a4ed64b3de3b41379e19589a21cfbc30",
       "version_major": 2,
       "version_minor": 0
      },
      "text/plain": [
       "Applying SummaryExtractor:   0%|          | 0/240 [00:00<?, ?it/s]"
      ]
     },
     "metadata": {},
     "output_type": "display_data"
    },
    {
     "name": "stderr",
     "output_type": "stream",
     "text": [
      "Property 'summary' already exists in node '7098c4'. Skipping!\n",
      "Property 'summary' already exists in node '615a78'. Skipping!\n",
      "Property 'summary' already exists in node 'ceea28'. Skipping!\n",
      "Property 'summary' already exists in node '825da4'. Skipping!\n",
      "Property 'summary' already exists in node '244fdf'. Skipping!\n",
      "Property 'summary' already exists in node '100c94'. Skipping!\n",
      "Property 'summary' already exists in node 'b19600'. Skipping!\n",
      "Property 'summary' already exists in node 'a2b4de'. Skipping!\n",
      "Property 'summary' already exists in node 'c3b606'. Skipping!\n",
      "Property 'summary' already exists in node '05ffc6'. Skipping!\n",
      "Property 'summary' already exists in node '141a1f'. Skipping!\n",
      "Property 'summary' already exists in node '5cbd00'. Skipping!\n",
      "Property 'summary' already exists in node 'cec716'. Skipping!\n",
      "Property 'summary' already exists in node 'b1a9a9'. Skipping!\n",
      "Property 'summary' already exists in node 'c17aaa'. Skipping!\n",
      "Property 'summary' already exists in node '02570f'. Skipping!\n",
      "Property 'summary' already exists in node 'ff6082'. Skipping!\n",
      "Property 'summary' already exists in node '193f56'. Skipping!\n",
      "Property 'summary' already exists in node '6f4183'. Skipping!\n",
      "Property 'summary' already exists in node '4dd53c'. Skipping!\n",
      "Property 'summary' already exists in node '7f95e4'. Skipping!\n",
      "Property 'summary' already exists in node '708223'. Skipping!\n",
      "Property 'summary' already exists in node 'e3faa3'. Skipping!\n",
      "Property 'summary' already exists in node 'dcb68f'. Skipping!\n",
      "Property 'summary' already exists in node '9016bd'. Skipping!\n",
      "Property 'summary' already exists in node '17e114'. Skipping!\n",
      "Property 'summary' already exists in node '43daa1'. Skipping!\n",
      "Property 'summary' already exists in node 'c6dccb'. Skipping!\n",
      "Property 'summary' already exists in node '683528'. Skipping!\n",
      "Property 'summary' already exists in node 'e09615'. Skipping!\n",
      "Property 'summary' already exists in node '70d35e'. Skipping!\n",
      "Property 'summary' already exists in node 'fabd72'. Skipping!\n",
      "Property 'summary' already exists in node 'fc698e'. Skipping!\n",
      "Property 'summary' already exists in node 'bdeb21'. Skipping!\n",
      "Property 'summary' already exists in node 'd879af'. Skipping!\n",
      "Property 'summary' already exists in node '8880bd'. Skipping!\n",
      "Property 'summary' already exists in node '59b8bc'. Skipping!\n",
      "Property 'summary' already exists in node '087a7f'. Skipping!\n",
      "Property 'summary' already exists in node '70d148'. Skipping!\n",
      "Property 'summary' already exists in node '8f2149'. Skipping!\n",
      "Property 'summary' already exists in node 'a82dd6'. Skipping!\n",
      "Property 'summary' already exists in node 'ca1851'. Skipping!\n",
      "Property 'summary' already exists in node 'fe8a32'. Skipping!\n",
      "Property 'summary' already exists in node '04cd58'. Skipping!\n",
      "Property 'summary' already exists in node 'dddcfc'. Skipping!\n",
      "Property 'summary' already exists in node '4f15f3'. Skipping!\n",
      "Property 'summary' already exists in node 'df74bd'. Skipping!\n",
      "Property 'summary' already exists in node '15ff56'. Skipping!\n",
      "Property 'summary' already exists in node 'a80c1f'. Skipping!\n",
      "Property 'summary' already exists in node 'd2a9d6'. Skipping!\n",
      "Property 'summary' already exists in node 'e6083c'. Skipping!\n",
      "Property 'summary' already exists in node '06ea76'. Skipping!\n",
      "Property 'summary' already exists in node 'c6d049'. Skipping!\n",
      "Property 'summary' already exists in node '951a68'. Skipping!\n",
      "Property 'summary' already exists in node 'e80a7d'. Skipping!\n",
      "Property 'summary' already exists in node '476e33'. Skipping!\n",
      "Property 'summary' already exists in node '9e512c'. Skipping!\n",
      "Property 'summary' already exists in node 'd6450f'. Skipping!\n",
      "Property 'summary' already exists in node '160c84'. Skipping!\n",
      "Property 'summary' already exists in node 'b3a966'. Skipping!\n",
      "Property 'summary' already exists in node 'a2f925'. Skipping!\n",
      "Property 'summary' already exists in node 'a106e2'. Skipping!\n",
      "Property 'summary' already exists in node '56dd9b'. Skipping!\n",
      "Property 'summary' already exists in node '50de5b'. Skipping!\n",
      "Property 'summary' already exists in node 'e4ae78'. Skipping!\n",
      "Property 'summary' already exists in node '9b2e5e'. Skipping!\n",
      "Property 'summary' already exists in node '921575'. Skipping!\n",
      "Property 'summary' already exists in node '0af3c8'. Skipping!\n",
      "Property 'summary' already exists in node '9b2c73'. Skipping!\n",
      "Property 'summary' already exists in node 'e6408d'. Skipping!\n",
      "Property 'summary' already exists in node '1953aa'. Skipping!\n",
      "Property 'summary' already exists in node '0d69b9'. Skipping!\n",
      "Property 'summary' already exists in node '924acc'. Skipping!\n",
      "Property 'summary' already exists in node 'bb1ab8'. Skipping!\n",
      "Property 'summary' already exists in node '9a7909'. Skipping!\n",
      "Property 'summary' already exists in node 'b4aaa4'. Skipping!\n",
      "Property 'summary' already exists in node 'aff828'. Skipping!\n",
      "Property 'summary' already exists in node 'ed8e75'. Skipping!\n",
      "Property 'summary' already exists in node '6241c5'. Skipping!\n",
      "Property 'summary' already exists in node 'bbf1cf'. Skipping!\n",
      "Property 'summary' already exists in node 'c6954a'. Skipping!\n",
      "Property 'summary' already exists in node 'a67c7b'. Skipping!\n",
      "Property 'summary' already exists in node 'afbf5e'. Skipping!\n",
      "Property 'summary' already exists in node '91ea5c'. Skipping!\n",
      "Property 'summary' already exists in node '6d11f2'. Skipping!\n",
      "Property 'summary' already exists in node 'a53cd1'. Skipping!\n",
      "Property 'summary' already exists in node '676979'. Skipping!\n",
      "Property 'summary' already exists in node 'df1e9d'. Skipping!\n",
      "Property 'summary' already exists in node '11a285'. Skipping!\n",
      "Property 'summary' already exists in node 'a6978c'. Skipping!\n",
      "Property 'summary' already exists in node '42059d'. Skipping!\n",
      "Property 'summary' already exists in node '59632e'. Skipping!\n",
      "Property 'summary' already exists in node 'fbc2b2'. Skipping!\n",
      "unable to apply transformation: Error code: 400 - {'error': {'message': \"This model's maximum context length is 16385 tokens. However, your messages resulted in 33465 tokens. Please reduce the length of the messages.\", 'type': 'invalid_request_error', 'param': 'messages', 'code': 'context_length_exceeded'}}\n",
      "Property 'summary' already exists in node 'f8192e'. Skipping!\n"
     ]
    },
    {
     "data": {
      "application/vnd.jupyter.widget-view+json": {
       "model_id": "fbdf0f6a8c2b4360b199df74fb642e06",
       "version_major": 2,
       "version_minor": 0
      },
      "text/plain": [
       "Applying CustomNodeFilter:   0%|          | 0/108 [00:00<?, ?it/s]"
      ]
     },
     "metadata": {},
     "output_type": "display_data"
    },
    {
     "name": "stderr",
     "output_type": "stream",
     "text": [
      "unable to apply transformation: 'StringIO' object has no attribute 'score'\n",
      "unable to apply transformation: 'StringIO' object has no attribute 'score'\n",
      "unable to apply transformation: 'StringIO' object has no attribute 'score'\n"
     ]
    },
    {
     "data": {
      "application/vnd.jupyter.widget-view+json": {
       "model_id": "ebc60db853c8473eb8b9709e246af76e",
       "version_major": 2,
       "version_minor": 0
      },
      "text/plain": [
       "Applying [EmbeddingExtractor, ThemesExtractor, NERExtractor]:   0%|          | 0/428 [00:00<?, ?it/s]"
      ]
     },
     "metadata": {},
     "output_type": "display_data"
    },
    {
     "name": "stderr",
     "output_type": "stream",
     "text": [
      "Property 'summary_embedding' already exists in node '7098c4'. Skipping!\n",
      "Property 'summary_embedding' already exists in node '615a78'. Skipping!\n",
      "Property 'summary_embedding' already exists in node '825da4'. Skipping!\n",
      "Property 'summary_embedding' already exists in node '244fdf'. Skipping!\n",
      "Property 'summary_embedding' already exists in node 'fbc2b2'. Skipping!\n",
      "Property 'summary_embedding' already exists in node 'ceea28'. Skipping!\n",
      "Property 'summary_embedding' already exists in node 'c3b606'. Skipping!\n",
      "Property 'summary_embedding' already exists in node 'b19600'. Skipping!\n",
      "Property 'summary_embedding' already exists in node 'f8192e'. Skipping!\n",
      "Property 'summary_embedding' already exists in node '100c94'. Skipping!\n",
      "Property 'summary_embedding' already exists in node 'a2b4de'. Skipping!\n",
      "Property 'summary_embedding' already exists in node '141a1f'. Skipping!\n",
      "Property 'summary_embedding' already exists in node '05ffc6'. Skipping!\n",
      "Property 'summary_embedding' already exists in node 'cec716'. Skipping!\n",
      "Property 'summary_embedding' already exists in node 'b1a9a9'. Skipping!\n",
      "Property 'summary_embedding' already exists in node '5cbd00'. Skipping!\n",
      "Property 'summary_embedding' already exists in node '59632e'. Skipping!\n",
      "Property 'summary_embedding' already exists in node '7f95e4'. Skipping!\n",
      "Property 'summary_embedding' already exists in node 'df74bd'. Skipping!\n",
      "Property 'summary_embedding' already exists in node 'ff6082'. Skipping!\n",
      "Property 'summary_embedding' already exists in node 'c17aaa'. Skipping!\n",
      "Property 'summary_embedding' already exists in node '02570f'. Skipping!\n",
      "Property 'summary_embedding' already exists in node '4dd53c'. Skipping!\n",
      "Property 'summary_embedding' already exists in node '193f56'. Skipping!\n",
      "Property 'summary_embedding' already exists in node '6f4183'. Skipping!\n",
      "Property 'summary_embedding' already exists in node '9016bd'. Skipping!\n",
      "Property 'summary_embedding' already exists in node 'e3faa3'. Skipping!\n",
      "Property 'summary_embedding' already exists in node '708223'. Skipping!\n",
      "Property 'summary_embedding' already exists in node 'dcb68f'. Skipping!\n",
      "Property 'summary_embedding' already exists in node 'bdeb21'. Skipping!\n",
      "Property 'summary_embedding' already exists in node 'e09615'. Skipping!\n",
      "Property 'summary_embedding' already exists in node '17e114'. Skipping!\n",
      "Property 'summary_embedding' already exists in node '43daa1'. Skipping!\n",
      "Property 'summary_embedding' already exists in node '683528'. Skipping!\n",
      "Property 'summary_embedding' already exists in node 'c6dccb'. Skipping!\n",
      "Property 'summary_embedding' already exists in node '70d35e'. Skipping!\n",
      "Property 'summary_embedding' already exists in node 'fabd72'. Skipping!\n",
      "Property 'summary_embedding' already exists in node 'fc698e'. Skipping!\n",
      "Property 'summary_embedding' already exists in node '70d148'. Skipping!\n",
      "Property 'summary_embedding' already exists in node '8880bd'. Skipping!\n",
      "Property 'summary_embedding' already exists in node 'd879af'. Skipping!\n",
      "Property 'summary_embedding' already exists in node '087a7f'. Skipping!\n",
      "Property 'summary_embedding' already exists in node '59b8bc'. Skipping!\n",
      "Property 'summary_embedding' already exists in node 'd2a9d6'. Skipping!\n",
      "Property 'summary_embedding' already exists in node 'a82dd6'. Skipping!\n",
      "Property 'summary_embedding' already exists in node '8f2149'. Skipping!\n",
      "Property 'summary_embedding' already exists in node 'ca1851'. Skipping!\n",
      "Property 'summary_embedding' already exists in node 'fe8a32'. Skipping!\n",
      "Property 'summary_embedding' already exists in node '04cd58'. Skipping!\n",
      "Property 'summary_embedding' already exists in node 'dddcfc'. Skipping!\n",
      "Property 'summary_embedding' already exists in node 'd6450f'. Skipping!\n",
      "Property 'summary_embedding' already exists in node 'a80c1f'. Skipping!\n",
      "Property 'summary_embedding' already exists in node '4f15f3'. Skipping!\n",
      "Property 'summary_embedding' already exists in node '15ff56'. Skipping!\n",
      "Property 'summary_embedding' already exists in node '06ea76'. Skipping!\n",
      "Property 'summary_embedding' already exists in node '921575'. Skipping!\n",
      "Property 'summary_embedding' already exists in node '160c84'. Skipping!\n",
      "Property 'summary_embedding' already exists in node 'e6083c'. Skipping!\n",
      "Property 'summary_embedding' already exists in node '56dd9b'. Skipping!\n",
      "Property 'summary_embedding' already exists in node 'c6d049'. Skipping!\n",
      "Property 'summary_embedding' already exists in node '951a68'. Skipping!\n",
      "Property 'summary_embedding' already exists in node '476e33'. Skipping!\n",
      "Property 'summary_embedding' already exists in node 'e80a7d'. Skipping!\n",
      "Property 'summary_embedding' already exists in node '9e512c'. Skipping!\n",
      "Property 'summary_embedding' already exists in node 'ed8e75'. Skipping!\n",
      "Property 'summary_embedding' already exists in node 'a106e2'. Skipping!\n",
      "Property 'summary_embedding' already exists in node 'a2f925'. Skipping!\n",
      "Property 'summary_embedding' already exists in node 'b3a966'. Skipping!\n",
      "Property 'summary_embedding' already exists in node '50de5b'. Skipping!\n",
      "Property 'summary_embedding' already exists in node 'e4ae78'. Skipping!\n",
      "Property 'summary_embedding' already exists in node 'afbf5e'. Skipping!\n",
      "Property 'summary_embedding' already exists in node 'a67c7b'. Skipping!\n",
      "Property 'summary_embedding' already exists in node '11a285'. Skipping!\n",
      "Property 'summary_embedding' already exists in node '0af3c8'. Skipping!\n",
      "Property 'summary_embedding' already exists in node '9b2e5e'. Skipping!\n",
      "Property 'summary_embedding' already exists in node '9b2c73'. Skipping!\n",
      "Property 'summary_embedding' already exists in node 'bb1ab8'. Skipping!\n",
      "Property 'summary_embedding' already exists in node 'a6978c'. Skipping!\n",
      "Property 'summary_embedding' already exists in node 'e6408d'. Skipping!\n",
      "Property 'summary_embedding' already exists in node '9a7909'. Skipping!\n",
      "Property 'summary_embedding' already exists in node '1953aa'. Skipping!\n",
      "Property 'summary_embedding' already exists in node '0d69b9'. Skipping!\n",
      "Property 'summary_embedding' already exists in node '924acc'. Skipping!\n",
      "Property 'summary_embedding' already exists in node '42059d'. Skipping!\n",
      "Property 'summary_embedding' already exists in node 'df1e9d'. Skipping!\n",
      "Property 'summary_embedding' already exists in node 'b4aaa4'. Skipping!\n",
      "Property 'summary_embedding' already exists in node 'aff828'. Skipping!\n",
      "Property 'summary_embedding' already exists in node 'bbf1cf'. Skipping!\n",
      "Property 'summary_embedding' already exists in node '6241c5'. Skipping!\n",
      "Property 'summary_embedding' already exists in node 'c6954a'. Skipping!\n",
      "Property 'summary_embedding' already exists in node '91ea5c'. Skipping!\n",
      "Property 'summary_embedding' already exists in node '6d11f2'. Skipping!\n",
      "Property 'summary_embedding' already exists in node '676979'. Skipping!\n",
      "Property 'summary_embedding' already exists in node 'a53cd1'. Skipping!\n",
      "unable to apply transformation: node.property('summary') must be a string, found '<class 'NoneType'>'\n"
     ]
    },
    {
     "data": {
      "application/vnd.jupyter.widget-view+json": {
       "model_id": "83aae9b70ada471da652a8583887e150",
       "version_major": 2,
       "version_minor": 0
      },
      "text/plain": [
       "Applying [CosineSimilarityBuilder, OverlapScoreBuilder]:   0%|          | 0/2 [00:00<?, ?it/s]"
      ]
     },
     "metadata": {},
     "output_type": "display_data"
    },
    {
     "name": "stderr",
     "output_type": "stream",
     "text": [
      "unable to apply transformation: Node 46991b12-ff3d-4e79-82e2-b1b763b1180d has no summary_embedding\n"
     ]
    },
    {
     "data": {
      "application/vnd.jupyter.widget-view+json": {
       "model_id": "ca7cc965b84b431cae52263cac59730b",
       "version_major": 2,
       "version_minor": 0
      },
      "text/plain": [
       "Generating Scenarios:   0%|          | 0/2 [00:00<?, ?it/s]"
      ]
     },
     "metadata": {},
     "output_type": "display_data"
    },
    {
     "data": {
      "application/vnd.jupyter.widget-view+json": {
       "model_id": "869d822031304e4bb6ebb9352ea7ad28",
       "version_major": 2,
       "version_minor": 0
      },
      "text/plain": [
       "Generating Samples:   0%|          | 0/502 [00:00<?, ?it/s]"
      ]
     },
     "metadata": {},
     "output_type": "display_data"
    }
   ],
   "source": [
    "from ragas.llms import LangchainLLMWrapper\n",
    "from ragas.embeddings import LangchainEmbeddingsWrapper\n",
    "from ragas.testset import TestsetGenerator\n",
    "from ragas.testset.persona import Persona\n",
    "from ragas.testset.synthesizers import default_query_distribution\n",
    "\n",
    "query_distribution = default_query_distribution(llm)\n",
    "\n",
    "person1 = Persona(\n",
    "    name=\"Financial analyst\",\n",
    "    role_description=\"financial performance analysis, metric comparisons, synergy evaluation, M&A activity tracking, and macroeconomic impact assessment to support strategic decision-making.\",\n",
    ")\n",
    "persona2 = Persona(\n",
    "    name=\"Legal analyst\",\n",
    "    role_description=\"compliance, monitoring regulations, assessing risks, and ensuring legal adherence.\",\n",
    ")\n",
    "persona_list = [person1, persona2]\n",
    "\n",
    "def generate_test_set(llm,\n",
    "                      embedder,\n",
    "                      documents,\n",
    "                      persona_list\n",
    "                    ):\n",
    "\n",
    "    generator_embeddings =  embedder\n",
    "    \n",
    "    generator_llm = llm\n",
    "    \n",
    "    generator = TestsetGenerator(llm=generator_llm,\n",
    "                                 embedding_model=generator_embeddings,\n",
    "                                 persona_list = persona_list)\n",
    "    \n",
    "    test_dataset = generator.generate_with_langchain_docs(documents, testset_size=500, query_distribution=query_distribution)\n",
    "    \n",
    "    return test_dataset\n",
    "\n",
    "\n",
    "test_dataset = generate_test_set(llm=llm, embedder=embedder, documents=docs, persona_list=persona_list)"
   ]
  },
  {
   "cell_type": "code",
   "execution_count": 15,
   "metadata": {},
   "outputs": [],
   "source": [
    "test_dataset.to_pandas().to_csv(\"datados.csv\")"
   ]
  }
 ],
 "metadata": {
  "kernelspec": {
   "display_name": "venvmain",
   "language": "python",
   "name": "python3"
  },
  "language_info": {
   "codemirror_mode": {
    "name": "ipython",
    "version": 3
   },
   "file_extension": ".py",
   "mimetype": "text/x-python",
   "name": "python",
   "nbconvert_exporter": "python",
   "pygments_lexer": "ipython3",
   "version": "3.11.9"
  }
 },
 "nbformat": 4,
 "nbformat_minor": 2
}
